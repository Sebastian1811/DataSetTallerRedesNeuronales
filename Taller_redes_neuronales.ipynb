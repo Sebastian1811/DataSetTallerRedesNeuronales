{
  "nbformat": 4,
  "nbformat_minor": 0,
  "metadata": {
    "colab": {
      "provenance": [],
      "collapsed_sections": []
    },
    "kernelspec": {
      "name": "python3",
      "display_name": "Python 3"
    },
    "language_info": {
      "name": "python"
    }
  },
  "cells": [
    {
      "cell_type": "code",
      "execution_count": null,
      "metadata": {
        "id": "c52wUWlVBlQM"
      },
      "outputs": [],
      "source": [
        "from sklearn.neural_network import MLPClassifier\n",
        "import numpy as np\n",
        "import pandas as pd\n",
        "import matplotlib.pyplot as plt"
      ]
    },
    {
      "cell_type": "markdown",
      "source": [
        "Integrantes:\n",
        "\n",
        "- Jhoan Sebastian Andica 1859966-3743\n",
        "- Diego Fernando Delgado 1859819-3743\n",
        "- David Rios Gonzales 1765662-3743"
      ],
      "metadata": {
        "id": "lEWru9q0BpQm"
      }
    },
    {
      "cell_type": "code",
      "source": [
        "!wget https://raw.githubusercontent.com/Sebastian1811/DataSetTallerRedesNeuronales/main/nasa.csv"
      ],
      "metadata": {
        "id": "s2kcM0EUCJhD",
        "colab": {
          "base_uri": "https://localhost:8080/"
        },
        "outputId": "f71e0077-a2ba-4e05-cbad-52f2a9b42c95"
      },
      "execution_count": null,
      "outputs": [
        {
          "output_type": "stream",
          "name": "stdout",
          "text": [
            "--2022-10-15 14:26:20--  https://raw.githubusercontent.com/Sebastian1811/DataSetTallerRedesNeuronales/main/nasa.csv\n",
            "Resolving raw.githubusercontent.com (raw.githubusercontent.com)... 185.199.110.133, 185.199.108.133, 185.199.111.133, ...\n",
            "Connecting to raw.githubusercontent.com (raw.githubusercontent.com)|185.199.110.133|:443... connected.\n",
            "HTTP request sent, awaiting response... 200 OK\n",
            "Length: 2425254 (2.3M) [text/plain]\n",
            "Saving to: ‘nasa.csv’\n",
            "\n",
            "nasa.csv            100%[===================>]   2.31M  --.-KB/s    in 0.07s   \n",
            "\n",
            "2022-10-15 14:26:20 (31.8 MB/s) - ‘nasa.csv’ saved [2425254/2425254]\n",
            "\n"
          ]
        }
      ]
    },
    {
      "cell_type": "code",
      "source": [
        "data = pd.read_csv(\"nasa.csv\")"
      ],
      "metadata": {
        "id": "KHsRPAKFCflo"
      },
      "execution_count": null,
      "outputs": []
    },
    {
      "cell_type": "code",
      "source": [
        "data.head()"
      ],
      "metadata": {
        "colab": {
          "base_uri": "https://localhost:8080/",
          "height": 314
        },
        "id": "fqHsjIAaCoS6",
        "outputId": "dc0aa762-779f-43ca-aac1-1aee68061a7b"
      },
      "execution_count": null,
      "outputs": [
        {
          "output_type": "execute_result",
          "data": {
            "text/plain": [
              "   Neo Reference ID     Name  Absolute Magnitude  Est Dia in KM(min)  \\\n",
              "0           3703080  3703080                21.6            0.127220   \n",
              "1           3723955  3723955                21.3            0.146068   \n",
              "2           2446862  2446862                20.3            0.231502   \n",
              "3           3092506  3092506                27.4            0.008801   \n",
              "4           3514799  3514799                21.6            0.127220   \n",
              "\n",
              "   Est Dia in KM(max)  Est Dia in M(min)  Est Dia in M(max)  \\\n",
              "0            0.284472         127.219879         284.472297   \n",
              "1            0.326618         146.067964         326.617897   \n",
              "2            0.517654         231.502122         517.654482   \n",
              "3            0.019681           8.801465          19.680675   \n",
              "4            0.284472         127.219879         284.472297   \n",
              "\n",
              "   Est Dia in Miles(min)  Est Dia in Miles(max)  Est Dia in Feet(min)  ...  \\\n",
              "0               0.079051               0.176763            417.388066  ...   \n",
              "1               0.090762               0.202951            479.225620  ...   \n",
              "2               0.143849               0.321655            759.521423  ...   \n",
              "3               0.005469               0.012229             28.876199  ...   \n",
              "4               0.079051               0.176763            417.388066  ...   \n",
              "\n",
              "   Asc Node Longitude Orbital Period  Perihelion Distance  Perihelion Arg  \\\n",
              "0          314.373913     609.599786             0.808259       57.257470   \n",
              "1          136.717242     425.869294             0.718200      313.091975   \n",
              "2          259.475979     643.580228             0.950791      248.415038   \n",
              "3           57.173266     514.082140             0.983902       18.707701   \n",
              "4           84.629307     495.597821             0.967687      158.263596   \n",
              "\n",
              "   Aphelion Dist  Perihelion Time  Mean Anomaly  Mean Motion  Equinox  \\\n",
              "0       2.005764     2.458162e+06    264.837533     0.590551    J2000   \n",
              "1       1.497352     2.457795e+06    173.741112     0.845330    J2000   \n",
              "2       1.966857     2.458120e+06    292.893654     0.559371    J2000   \n",
              "3       1.527904     2.457902e+06     68.741007     0.700277    J2000   \n",
              "4       1.483543     2.457814e+06    135.142133     0.726395    J2000   \n",
              "\n",
              "   Hazardous  \n",
              "0       True  \n",
              "1      False  \n",
              "2       True  \n",
              "3      False  \n",
              "4       True  \n",
              "\n",
              "[5 rows x 40 columns]"
            ],
            "text/html": [
              "\n",
              "  <div id=\"df-f85196aa-5c81-4236-b746-ae7a8dd2add0\">\n",
              "    <div class=\"colab-df-container\">\n",
              "      <div>\n",
              "<style scoped>\n",
              "    .dataframe tbody tr th:only-of-type {\n",
              "        vertical-align: middle;\n",
              "    }\n",
              "\n",
              "    .dataframe tbody tr th {\n",
              "        vertical-align: top;\n",
              "    }\n",
              "\n",
              "    .dataframe thead th {\n",
              "        text-align: right;\n",
              "    }\n",
              "</style>\n",
              "<table border=\"1\" class=\"dataframe\">\n",
              "  <thead>\n",
              "    <tr style=\"text-align: right;\">\n",
              "      <th></th>\n",
              "      <th>Neo Reference ID</th>\n",
              "      <th>Name</th>\n",
              "      <th>Absolute Magnitude</th>\n",
              "      <th>Est Dia in KM(min)</th>\n",
              "      <th>Est Dia in KM(max)</th>\n",
              "      <th>Est Dia in M(min)</th>\n",
              "      <th>Est Dia in M(max)</th>\n",
              "      <th>Est Dia in Miles(min)</th>\n",
              "      <th>Est Dia in Miles(max)</th>\n",
              "      <th>Est Dia in Feet(min)</th>\n",
              "      <th>...</th>\n",
              "      <th>Asc Node Longitude</th>\n",
              "      <th>Orbital Period</th>\n",
              "      <th>Perihelion Distance</th>\n",
              "      <th>Perihelion Arg</th>\n",
              "      <th>Aphelion Dist</th>\n",
              "      <th>Perihelion Time</th>\n",
              "      <th>Mean Anomaly</th>\n",
              "      <th>Mean Motion</th>\n",
              "      <th>Equinox</th>\n",
              "      <th>Hazardous</th>\n",
              "    </tr>\n",
              "  </thead>\n",
              "  <tbody>\n",
              "    <tr>\n",
              "      <th>0</th>\n",
              "      <td>3703080</td>\n",
              "      <td>3703080</td>\n",
              "      <td>21.6</td>\n",
              "      <td>0.127220</td>\n",
              "      <td>0.284472</td>\n",
              "      <td>127.219879</td>\n",
              "      <td>284.472297</td>\n",
              "      <td>0.079051</td>\n",
              "      <td>0.176763</td>\n",
              "      <td>417.388066</td>\n",
              "      <td>...</td>\n",
              "      <td>314.373913</td>\n",
              "      <td>609.599786</td>\n",
              "      <td>0.808259</td>\n",
              "      <td>57.257470</td>\n",
              "      <td>2.005764</td>\n",
              "      <td>2.458162e+06</td>\n",
              "      <td>264.837533</td>\n",
              "      <td>0.590551</td>\n",
              "      <td>J2000</td>\n",
              "      <td>True</td>\n",
              "    </tr>\n",
              "    <tr>\n",
              "      <th>1</th>\n",
              "      <td>3723955</td>\n",
              "      <td>3723955</td>\n",
              "      <td>21.3</td>\n",
              "      <td>0.146068</td>\n",
              "      <td>0.326618</td>\n",
              "      <td>146.067964</td>\n",
              "      <td>326.617897</td>\n",
              "      <td>0.090762</td>\n",
              "      <td>0.202951</td>\n",
              "      <td>479.225620</td>\n",
              "      <td>...</td>\n",
              "      <td>136.717242</td>\n",
              "      <td>425.869294</td>\n",
              "      <td>0.718200</td>\n",
              "      <td>313.091975</td>\n",
              "      <td>1.497352</td>\n",
              "      <td>2.457795e+06</td>\n",
              "      <td>173.741112</td>\n",
              "      <td>0.845330</td>\n",
              "      <td>J2000</td>\n",
              "      <td>False</td>\n",
              "    </tr>\n",
              "    <tr>\n",
              "      <th>2</th>\n",
              "      <td>2446862</td>\n",
              "      <td>2446862</td>\n",
              "      <td>20.3</td>\n",
              "      <td>0.231502</td>\n",
              "      <td>0.517654</td>\n",
              "      <td>231.502122</td>\n",
              "      <td>517.654482</td>\n",
              "      <td>0.143849</td>\n",
              "      <td>0.321655</td>\n",
              "      <td>759.521423</td>\n",
              "      <td>...</td>\n",
              "      <td>259.475979</td>\n",
              "      <td>643.580228</td>\n",
              "      <td>0.950791</td>\n",
              "      <td>248.415038</td>\n",
              "      <td>1.966857</td>\n",
              "      <td>2.458120e+06</td>\n",
              "      <td>292.893654</td>\n",
              "      <td>0.559371</td>\n",
              "      <td>J2000</td>\n",
              "      <td>True</td>\n",
              "    </tr>\n",
              "    <tr>\n",
              "      <th>3</th>\n",
              "      <td>3092506</td>\n",
              "      <td>3092506</td>\n",
              "      <td>27.4</td>\n",
              "      <td>0.008801</td>\n",
              "      <td>0.019681</td>\n",
              "      <td>8.801465</td>\n",
              "      <td>19.680675</td>\n",
              "      <td>0.005469</td>\n",
              "      <td>0.012229</td>\n",
              "      <td>28.876199</td>\n",
              "      <td>...</td>\n",
              "      <td>57.173266</td>\n",
              "      <td>514.082140</td>\n",
              "      <td>0.983902</td>\n",
              "      <td>18.707701</td>\n",
              "      <td>1.527904</td>\n",
              "      <td>2.457902e+06</td>\n",
              "      <td>68.741007</td>\n",
              "      <td>0.700277</td>\n",
              "      <td>J2000</td>\n",
              "      <td>False</td>\n",
              "    </tr>\n",
              "    <tr>\n",
              "      <th>4</th>\n",
              "      <td>3514799</td>\n",
              "      <td>3514799</td>\n",
              "      <td>21.6</td>\n",
              "      <td>0.127220</td>\n",
              "      <td>0.284472</td>\n",
              "      <td>127.219879</td>\n",
              "      <td>284.472297</td>\n",
              "      <td>0.079051</td>\n",
              "      <td>0.176763</td>\n",
              "      <td>417.388066</td>\n",
              "      <td>...</td>\n",
              "      <td>84.629307</td>\n",
              "      <td>495.597821</td>\n",
              "      <td>0.967687</td>\n",
              "      <td>158.263596</td>\n",
              "      <td>1.483543</td>\n",
              "      <td>2.457814e+06</td>\n",
              "      <td>135.142133</td>\n",
              "      <td>0.726395</td>\n",
              "      <td>J2000</td>\n",
              "      <td>True</td>\n",
              "    </tr>\n",
              "  </tbody>\n",
              "</table>\n",
              "<p>5 rows × 40 columns</p>\n",
              "</div>\n",
              "      <button class=\"colab-df-convert\" onclick=\"convertToInteractive('df-f85196aa-5c81-4236-b746-ae7a8dd2add0')\"\n",
              "              title=\"Convert this dataframe to an interactive table.\"\n",
              "              style=\"display:none;\">\n",
              "        \n",
              "  <svg xmlns=\"http://www.w3.org/2000/svg\" height=\"24px\"viewBox=\"0 0 24 24\"\n",
              "       width=\"24px\">\n",
              "    <path d=\"M0 0h24v24H0V0z\" fill=\"none\"/>\n",
              "    <path d=\"M18.56 5.44l.94 2.06.94-2.06 2.06-.94-2.06-.94-.94-2.06-.94 2.06-2.06.94zm-11 1L8.5 8.5l.94-2.06 2.06-.94-2.06-.94L8.5 2.5l-.94 2.06-2.06.94zm10 10l.94 2.06.94-2.06 2.06-.94-2.06-.94-.94-2.06-.94 2.06-2.06.94z\"/><path d=\"M17.41 7.96l-1.37-1.37c-.4-.4-.92-.59-1.43-.59-.52 0-1.04.2-1.43.59L10.3 9.45l-7.72 7.72c-.78.78-.78 2.05 0 2.83L4 21.41c.39.39.9.59 1.41.59.51 0 1.02-.2 1.41-.59l7.78-7.78 2.81-2.81c.8-.78.8-2.07 0-2.86zM5.41 20L4 18.59l7.72-7.72 1.47 1.35L5.41 20z\"/>\n",
              "  </svg>\n",
              "      </button>\n",
              "      \n",
              "  <style>\n",
              "    .colab-df-container {\n",
              "      display:flex;\n",
              "      flex-wrap:wrap;\n",
              "      gap: 12px;\n",
              "    }\n",
              "\n",
              "    .colab-df-convert {\n",
              "      background-color: #E8F0FE;\n",
              "      border: none;\n",
              "      border-radius: 50%;\n",
              "      cursor: pointer;\n",
              "      display: none;\n",
              "      fill: #1967D2;\n",
              "      height: 32px;\n",
              "      padding: 0 0 0 0;\n",
              "      width: 32px;\n",
              "    }\n",
              "\n",
              "    .colab-df-convert:hover {\n",
              "      background-color: #E2EBFA;\n",
              "      box-shadow: 0px 1px 2px rgba(60, 64, 67, 0.3), 0px 1px 3px 1px rgba(60, 64, 67, 0.15);\n",
              "      fill: #174EA6;\n",
              "    }\n",
              "\n",
              "    [theme=dark] .colab-df-convert {\n",
              "      background-color: #3B4455;\n",
              "      fill: #D2E3FC;\n",
              "    }\n",
              "\n",
              "    [theme=dark] .colab-df-convert:hover {\n",
              "      background-color: #434B5C;\n",
              "      box-shadow: 0px 1px 3px 1px rgba(0, 0, 0, 0.15);\n",
              "      filter: drop-shadow(0px 1px 2px rgba(0, 0, 0, 0.3));\n",
              "      fill: #FFFFFF;\n",
              "    }\n",
              "  </style>\n",
              "\n",
              "      <script>\n",
              "        const buttonEl =\n",
              "          document.querySelector('#df-f85196aa-5c81-4236-b746-ae7a8dd2add0 button.colab-df-convert');\n",
              "        buttonEl.style.display =\n",
              "          google.colab.kernel.accessAllowed ? 'block' : 'none';\n",
              "\n",
              "        async function convertToInteractive(key) {\n",
              "          const element = document.querySelector('#df-f85196aa-5c81-4236-b746-ae7a8dd2add0');\n",
              "          const dataTable =\n",
              "            await google.colab.kernel.invokeFunction('convertToInteractive',\n",
              "                                                     [key], {});\n",
              "          if (!dataTable) return;\n",
              "\n",
              "          const docLinkHtml = 'Like what you see? Visit the ' +\n",
              "            '<a target=\"_blank\" href=https://colab.research.google.com/notebooks/data_table.ipynb>data table notebook</a>'\n",
              "            + ' to learn more about interactive tables.';\n",
              "          element.innerHTML = '';\n",
              "          dataTable['output_type'] = 'display_data';\n",
              "          await google.colab.output.renderOutput(dataTable, element);\n",
              "          const docLink = document.createElement('div');\n",
              "          docLink.innerHTML = docLinkHtml;\n",
              "          element.appendChild(docLink);\n",
              "        }\n",
              "      </script>\n",
              "    </div>\n",
              "  </div>\n",
              "  "
            ]
          },
          "metadata": {},
          "execution_count": 37
        }
      ]
    },
    {
      "cell_type": "code",
      "source": [
        "data.describe()"
      ],
      "metadata": {
        "colab": {
          "base_uri": "https://localhost:8080/",
          "height": 428
        },
        "id": "o937T1k6C1Dq",
        "outputId": "297fbe5b-66b3-487c-9025-a53d6b5370e8"
      },
      "execution_count": null,
      "outputs": [
        {
          "output_type": "execute_result",
          "data": {
            "text/plain": [
              "       Neo Reference ID          Name  Absolute Magnitude  Est Dia in KM(min)  \\\n",
              "count      4.687000e+03  4.687000e+03         4687.000000         4687.000000   \n",
              "mean       3.272298e+06  3.272298e+06           22.267865            0.204604   \n",
              "std        5.486011e+05  5.486011e+05            2.890972            0.369573   \n",
              "min        2.000433e+06  2.000433e+06           11.160000            0.001011   \n",
              "25%        3.097594e+06  3.097594e+06           20.100000            0.033462   \n",
              "50%        3.514799e+06  3.514799e+06           21.900000            0.110804   \n",
              "75%        3.690060e+06  3.690060e+06           24.500000            0.253837   \n",
              "max        3.781897e+06  3.781897e+06           32.100000           15.579552   \n",
              "\n",
              "       Est Dia in KM(max)  Est Dia in M(min)  Est Dia in M(max)  \\\n",
              "count         4687.000000        4687.000000        4687.000000   \n",
              "mean             0.457509         204.604203         457.508906   \n",
              "std              0.826391         369.573402         826.391249   \n",
              "min              0.002260           1.010543           2.259644   \n",
              "25%              0.074824          33.462237          74.823838   \n",
              "50%              0.247765         110.803882         247.765013   \n",
              "75%              0.567597         253.837029         567.596853   \n",
              "max             34.836938       15579.552413       34836.938254   \n",
              "\n",
              "       Est Dia in Miles(min)  Est Dia in Miles(max)  Est Dia in Feet(min)  \\\n",
              "count            4687.000000            4687.000000           4687.000000   \n",
              "mean                0.127135               0.284283            671.273653   \n",
              "std                 0.229642               0.513496           1212.511199   \n",
              "min                 0.000628               0.001404              3.315431   \n",
              "25%                 0.020792               0.046493            109.784247   \n",
              "50%                 0.068850               0.153954            363.529809   \n",
              "75%                 0.157727               0.352688            832.798679   \n",
              "max                 9.680682              21.646663          51114.018738   \n",
              "\n",
              "       ...  Semi Major Axis  Inclination  Asc Node Longitude  Orbital Period  \\\n",
              "count  ...      4687.000000  4687.000000         4687.000000     4687.000000   \n",
              "mean   ...         1.400264    13.373844          172.157275      635.582076   \n",
              "std    ...         0.524154    10.936227          103.276777      370.954727   \n",
              "min    ...         0.615920     0.014513            0.001941      176.557161   \n",
              "25%    ...         1.000635     4.962341           83.081208      365.605031   \n",
              "50%    ...         1.240981    10.311836          172.625393      504.947292   \n",
              "75%    ...         1.678364    19.511681          255.026909      794.195972   \n",
              "max    ...         5.072008    75.406667          359.905890     4172.231343   \n",
              "\n",
              "       Perihelion Distance  Perihelion Arg  Aphelion Dist  Perihelion Time  \\\n",
              "count          4687.000000     4687.000000    4687.000000     4.687000e+03   \n",
              "mean              0.813383      183.932151       1.987144     2.457728e+06   \n",
              "std               0.242059      103.513035       0.951519     9.442264e+02   \n",
              "min               0.080744        0.006918       0.803765     2.450100e+06   \n",
              "25%               0.630834       95.625916       1.266059     2.457815e+06   \n",
              "50%               0.833153      189.761641       1.618195     2.457973e+06   \n",
              "75%               0.997227      271.777557       2.451171     2.458108e+06   \n",
              "max               1.299832      359.993098       8.983852     2.458839e+06   \n",
              "\n",
              "       Mean Anomaly  Mean Motion  \n",
              "count   4687.000000  4687.000000  \n",
              "mean     181.167927     0.738242  \n",
              "std      107.501623     0.342627  \n",
              "min        0.003191     0.086285  \n",
              "25%       87.006918     0.453289  \n",
              "50%      185.718889     0.712946  \n",
              "75%      276.531946     0.984669  \n",
              "max      359.917991     2.039000  \n",
              "\n",
              "[8 rows x 35 columns]"
            ],
            "text/html": [
              "\n",
              "  <div id=\"df-8f5f3f44-10ee-4564-9bf2-b9f769235566\">\n",
              "    <div class=\"colab-df-container\">\n",
              "      <div>\n",
              "<style scoped>\n",
              "    .dataframe tbody tr th:only-of-type {\n",
              "        vertical-align: middle;\n",
              "    }\n",
              "\n",
              "    .dataframe tbody tr th {\n",
              "        vertical-align: top;\n",
              "    }\n",
              "\n",
              "    .dataframe thead th {\n",
              "        text-align: right;\n",
              "    }\n",
              "</style>\n",
              "<table border=\"1\" class=\"dataframe\">\n",
              "  <thead>\n",
              "    <tr style=\"text-align: right;\">\n",
              "      <th></th>\n",
              "      <th>Neo Reference ID</th>\n",
              "      <th>Name</th>\n",
              "      <th>Absolute Magnitude</th>\n",
              "      <th>Est Dia in KM(min)</th>\n",
              "      <th>Est Dia in KM(max)</th>\n",
              "      <th>Est Dia in M(min)</th>\n",
              "      <th>Est Dia in M(max)</th>\n",
              "      <th>Est Dia in Miles(min)</th>\n",
              "      <th>Est Dia in Miles(max)</th>\n",
              "      <th>Est Dia in Feet(min)</th>\n",
              "      <th>...</th>\n",
              "      <th>Semi Major Axis</th>\n",
              "      <th>Inclination</th>\n",
              "      <th>Asc Node Longitude</th>\n",
              "      <th>Orbital Period</th>\n",
              "      <th>Perihelion Distance</th>\n",
              "      <th>Perihelion Arg</th>\n",
              "      <th>Aphelion Dist</th>\n",
              "      <th>Perihelion Time</th>\n",
              "      <th>Mean Anomaly</th>\n",
              "      <th>Mean Motion</th>\n",
              "    </tr>\n",
              "  </thead>\n",
              "  <tbody>\n",
              "    <tr>\n",
              "      <th>count</th>\n",
              "      <td>4.687000e+03</td>\n",
              "      <td>4.687000e+03</td>\n",
              "      <td>4687.000000</td>\n",
              "      <td>4687.000000</td>\n",
              "      <td>4687.000000</td>\n",
              "      <td>4687.000000</td>\n",
              "      <td>4687.000000</td>\n",
              "      <td>4687.000000</td>\n",
              "      <td>4687.000000</td>\n",
              "      <td>4687.000000</td>\n",
              "      <td>...</td>\n",
              "      <td>4687.000000</td>\n",
              "      <td>4687.000000</td>\n",
              "      <td>4687.000000</td>\n",
              "      <td>4687.000000</td>\n",
              "      <td>4687.000000</td>\n",
              "      <td>4687.000000</td>\n",
              "      <td>4687.000000</td>\n",
              "      <td>4.687000e+03</td>\n",
              "      <td>4687.000000</td>\n",
              "      <td>4687.000000</td>\n",
              "    </tr>\n",
              "    <tr>\n",
              "      <th>mean</th>\n",
              "      <td>3.272298e+06</td>\n",
              "      <td>3.272298e+06</td>\n",
              "      <td>22.267865</td>\n",
              "      <td>0.204604</td>\n",
              "      <td>0.457509</td>\n",
              "      <td>204.604203</td>\n",
              "      <td>457.508906</td>\n",
              "      <td>0.127135</td>\n",
              "      <td>0.284283</td>\n",
              "      <td>671.273653</td>\n",
              "      <td>...</td>\n",
              "      <td>1.400264</td>\n",
              "      <td>13.373844</td>\n",
              "      <td>172.157275</td>\n",
              "      <td>635.582076</td>\n",
              "      <td>0.813383</td>\n",
              "      <td>183.932151</td>\n",
              "      <td>1.987144</td>\n",
              "      <td>2.457728e+06</td>\n",
              "      <td>181.167927</td>\n",
              "      <td>0.738242</td>\n",
              "    </tr>\n",
              "    <tr>\n",
              "      <th>std</th>\n",
              "      <td>5.486011e+05</td>\n",
              "      <td>5.486011e+05</td>\n",
              "      <td>2.890972</td>\n",
              "      <td>0.369573</td>\n",
              "      <td>0.826391</td>\n",
              "      <td>369.573402</td>\n",
              "      <td>826.391249</td>\n",
              "      <td>0.229642</td>\n",
              "      <td>0.513496</td>\n",
              "      <td>1212.511199</td>\n",
              "      <td>...</td>\n",
              "      <td>0.524154</td>\n",
              "      <td>10.936227</td>\n",
              "      <td>103.276777</td>\n",
              "      <td>370.954727</td>\n",
              "      <td>0.242059</td>\n",
              "      <td>103.513035</td>\n",
              "      <td>0.951519</td>\n",
              "      <td>9.442264e+02</td>\n",
              "      <td>107.501623</td>\n",
              "      <td>0.342627</td>\n",
              "    </tr>\n",
              "    <tr>\n",
              "      <th>min</th>\n",
              "      <td>2.000433e+06</td>\n",
              "      <td>2.000433e+06</td>\n",
              "      <td>11.160000</td>\n",
              "      <td>0.001011</td>\n",
              "      <td>0.002260</td>\n",
              "      <td>1.010543</td>\n",
              "      <td>2.259644</td>\n",
              "      <td>0.000628</td>\n",
              "      <td>0.001404</td>\n",
              "      <td>3.315431</td>\n",
              "      <td>...</td>\n",
              "      <td>0.615920</td>\n",
              "      <td>0.014513</td>\n",
              "      <td>0.001941</td>\n",
              "      <td>176.557161</td>\n",
              "      <td>0.080744</td>\n",
              "      <td>0.006918</td>\n",
              "      <td>0.803765</td>\n",
              "      <td>2.450100e+06</td>\n",
              "      <td>0.003191</td>\n",
              "      <td>0.086285</td>\n",
              "    </tr>\n",
              "    <tr>\n",
              "      <th>25%</th>\n",
              "      <td>3.097594e+06</td>\n",
              "      <td>3.097594e+06</td>\n",
              "      <td>20.100000</td>\n",
              "      <td>0.033462</td>\n",
              "      <td>0.074824</td>\n",
              "      <td>33.462237</td>\n",
              "      <td>74.823838</td>\n",
              "      <td>0.020792</td>\n",
              "      <td>0.046493</td>\n",
              "      <td>109.784247</td>\n",
              "      <td>...</td>\n",
              "      <td>1.000635</td>\n",
              "      <td>4.962341</td>\n",
              "      <td>83.081208</td>\n",
              "      <td>365.605031</td>\n",
              "      <td>0.630834</td>\n",
              "      <td>95.625916</td>\n",
              "      <td>1.266059</td>\n",
              "      <td>2.457815e+06</td>\n",
              "      <td>87.006918</td>\n",
              "      <td>0.453289</td>\n",
              "    </tr>\n",
              "    <tr>\n",
              "      <th>50%</th>\n",
              "      <td>3.514799e+06</td>\n",
              "      <td>3.514799e+06</td>\n",
              "      <td>21.900000</td>\n",
              "      <td>0.110804</td>\n",
              "      <td>0.247765</td>\n",
              "      <td>110.803882</td>\n",
              "      <td>247.765013</td>\n",
              "      <td>0.068850</td>\n",
              "      <td>0.153954</td>\n",
              "      <td>363.529809</td>\n",
              "      <td>...</td>\n",
              "      <td>1.240981</td>\n",
              "      <td>10.311836</td>\n",
              "      <td>172.625393</td>\n",
              "      <td>504.947292</td>\n",
              "      <td>0.833153</td>\n",
              "      <td>189.761641</td>\n",
              "      <td>1.618195</td>\n",
              "      <td>2.457973e+06</td>\n",
              "      <td>185.718889</td>\n",
              "      <td>0.712946</td>\n",
              "    </tr>\n",
              "    <tr>\n",
              "      <th>75%</th>\n",
              "      <td>3.690060e+06</td>\n",
              "      <td>3.690060e+06</td>\n",
              "      <td>24.500000</td>\n",
              "      <td>0.253837</td>\n",
              "      <td>0.567597</td>\n",
              "      <td>253.837029</td>\n",
              "      <td>567.596853</td>\n",
              "      <td>0.157727</td>\n",
              "      <td>0.352688</td>\n",
              "      <td>832.798679</td>\n",
              "      <td>...</td>\n",
              "      <td>1.678364</td>\n",
              "      <td>19.511681</td>\n",
              "      <td>255.026909</td>\n",
              "      <td>794.195972</td>\n",
              "      <td>0.997227</td>\n",
              "      <td>271.777557</td>\n",
              "      <td>2.451171</td>\n",
              "      <td>2.458108e+06</td>\n",
              "      <td>276.531946</td>\n",
              "      <td>0.984669</td>\n",
              "    </tr>\n",
              "    <tr>\n",
              "      <th>max</th>\n",
              "      <td>3.781897e+06</td>\n",
              "      <td>3.781897e+06</td>\n",
              "      <td>32.100000</td>\n",
              "      <td>15.579552</td>\n",
              "      <td>34.836938</td>\n",
              "      <td>15579.552413</td>\n",
              "      <td>34836.938254</td>\n",
              "      <td>9.680682</td>\n",
              "      <td>21.646663</td>\n",
              "      <td>51114.018738</td>\n",
              "      <td>...</td>\n",
              "      <td>5.072008</td>\n",
              "      <td>75.406667</td>\n",
              "      <td>359.905890</td>\n",
              "      <td>4172.231343</td>\n",
              "      <td>1.299832</td>\n",
              "      <td>359.993098</td>\n",
              "      <td>8.983852</td>\n",
              "      <td>2.458839e+06</td>\n",
              "      <td>359.917991</td>\n",
              "      <td>2.039000</td>\n",
              "    </tr>\n",
              "  </tbody>\n",
              "</table>\n",
              "<p>8 rows × 35 columns</p>\n",
              "</div>\n",
              "      <button class=\"colab-df-convert\" onclick=\"convertToInteractive('df-8f5f3f44-10ee-4564-9bf2-b9f769235566')\"\n",
              "              title=\"Convert this dataframe to an interactive table.\"\n",
              "              style=\"display:none;\">\n",
              "        \n",
              "  <svg xmlns=\"http://www.w3.org/2000/svg\" height=\"24px\"viewBox=\"0 0 24 24\"\n",
              "       width=\"24px\">\n",
              "    <path d=\"M0 0h24v24H0V0z\" fill=\"none\"/>\n",
              "    <path d=\"M18.56 5.44l.94 2.06.94-2.06 2.06-.94-2.06-.94-.94-2.06-.94 2.06-2.06.94zm-11 1L8.5 8.5l.94-2.06 2.06-.94-2.06-.94L8.5 2.5l-.94 2.06-2.06.94zm10 10l.94 2.06.94-2.06 2.06-.94-2.06-.94-.94-2.06-.94 2.06-2.06.94z\"/><path d=\"M17.41 7.96l-1.37-1.37c-.4-.4-.92-.59-1.43-.59-.52 0-1.04.2-1.43.59L10.3 9.45l-7.72 7.72c-.78.78-.78 2.05 0 2.83L4 21.41c.39.39.9.59 1.41.59.51 0 1.02-.2 1.41-.59l7.78-7.78 2.81-2.81c.8-.78.8-2.07 0-2.86zM5.41 20L4 18.59l7.72-7.72 1.47 1.35L5.41 20z\"/>\n",
              "  </svg>\n",
              "      </button>\n",
              "      \n",
              "  <style>\n",
              "    .colab-df-container {\n",
              "      display:flex;\n",
              "      flex-wrap:wrap;\n",
              "      gap: 12px;\n",
              "    }\n",
              "\n",
              "    .colab-df-convert {\n",
              "      background-color: #E8F0FE;\n",
              "      border: none;\n",
              "      border-radius: 50%;\n",
              "      cursor: pointer;\n",
              "      display: none;\n",
              "      fill: #1967D2;\n",
              "      height: 32px;\n",
              "      padding: 0 0 0 0;\n",
              "      width: 32px;\n",
              "    }\n",
              "\n",
              "    .colab-df-convert:hover {\n",
              "      background-color: #E2EBFA;\n",
              "      box-shadow: 0px 1px 2px rgba(60, 64, 67, 0.3), 0px 1px 3px 1px rgba(60, 64, 67, 0.15);\n",
              "      fill: #174EA6;\n",
              "    }\n",
              "\n",
              "    [theme=dark] .colab-df-convert {\n",
              "      background-color: #3B4455;\n",
              "      fill: #D2E3FC;\n",
              "    }\n",
              "\n",
              "    [theme=dark] .colab-df-convert:hover {\n",
              "      background-color: #434B5C;\n",
              "      box-shadow: 0px 1px 3px 1px rgba(0, 0, 0, 0.15);\n",
              "      filter: drop-shadow(0px 1px 2px rgba(0, 0, 0, 0.3));\n",
              "      fill: #FFFFFF;\n",
              "    }\n",
              "  </style>\n",
              "\n",
              "      <script>\n",
              "        const buttonEl =\n",
              "          document.querySelector('#df-8f5f3f44-10ee-4564-9bf2-b9f769235566 button.colab-df-convert');\n",
              "        buttonEl.style.display =\n",
              "          google.colab.kernel.accessAllowed ? 'block' : 'none';\n",
              "\n",
              "        async function convertToInteractive(key) {\n",
              "          const element = document.querySelector('#df-8f5f3f44-10ee-4564-9bf2-b9f769235566');\n",
              "          const dataTable =\n",
              "            await google.colab.kernel.invokeFunction('convertToInteractive',\n",
              "                                                     [key], {});\n",
              "          if (!dataTable) return;\n",
              "\n",
              "          const docLinkHtml = 'Like what you see? Visit the ' +\n",
              "            '<a target=\"_blank\" href=https://colab.research.google.com/notebooks/data_table.ipynb>data table notebook</a>'\n",
              "            + ' to learn more about interactive tables.';\n",
              "          element.innerHTML = '';\n",
              "          dataTable['output_type'] = 'display_data';\n",
              "          await google.colab.output.renderOutput(dataTable, element);\n",
              "          const docLink = document.createElement('div');\n",
              "          docLink.innerHTML = docLinkHtml;\n",
              "          element.appendChild(docLink);\n",
              "        }\n",
              "      </script>\n",
              "    </div>\n",
              "  </div>\n",
              "  "
            ]
          },
          "metadata": {},
          "execution_count": 53
        }
      ]
    },
    {
      "cell_type": "markdown",
      "source": [
        "Debido a la desproporción de las filas con respecto al atributo de \"Hazardous\" (Riesgoso), se crearon dos nuevos dataframes a partir del original, donde todas las filas con atributo \"True\" se eligieron y de aquellas filas que tuvieran como atributo \"False\", se escogieron el 20% de forma aleatoria de dichas filas."
      ],
      "metadata": {
        "id": "d2UH81jdYi2y"
      }
    },
    {
      "cell_type": "code",
      "source": [
        "new_data_for_true = data.where(data[\"Hazardous\"] == 1)\n",
        "new_data_for_true.dropna().shape[0]"
      ],
      "metadata": {
        "colab": {
          "base_uri": "https://localhost:8080/"
        },
        "id": "7KKX0IjIT-_l",
        "outputId": "11cd5db5-8856-470d-f759-40b717afbd77"
      },
      "execution_count": null,
      "outputs": [
        {
          "output_type": "execute_result",
          "data": {
            "text/plain": [
              "755"
            ]
          },
          "metadata": {},
          "execution_count": 260
        }
      ]
    },
    {
      "cell_type": "code",
      "source": [
        "new_data_for_false = data.where(data[\"Hazardous\"] == 0)\n",
        "new_data_for_false.dropna().shape[0]"
      ],
      "metadata": {
        "colab": {
          "base_uri": "https://localhost:8080/"
        },
        "id": "49BBTq6RWB03",
        "outputId": "5c82cd04-8d5a-4733-de60-57667a199b3d"
      },
      "execution_count": null,
      "outputs": [
        {
          "output_type": "execute_result",
          "data": {
            "text/plain": [
              "3932"
            ]
          },
          "metadata": {},
          "execution_count": 262
        }
      ]
    },
    {
      "cell_type": "code",
      "source": [
        "final_data = pd.concat([new_data_for_true.dropna(), new_data_for_false.dropna().sample(frac=0.2, replace=True, random_state=1)])"
      ],
      "metadata": {
        "id": "cUDIt5eNWalY"
      },
      "execution_count": null,
      "outputs": []
    },
    {
      "cell_type": "markdown",
      "source": [
        "Se escogieron 9 atributos de entradad para el entrenamiento de la red que se consideraran relevantes y a su vez no tuvieran una correlación entre ellos. Para los atributos de salida, se escogió el atributo de \"Peligrosidad\"."
      ],
      "metadata": {
        "id": "gUeMKaTrZykg"
      }
    },
    {
      "cell_type": "code",
      "source": [
        "x = final_data[[\"Absolute Magnitude\",\"Est Dia in KM(min)\",\"Est Dia in KM(max)\",\"Relative Velocity km per hr\",\"Miss Dist.(kilometers)\",\"Inclination\",\"Orbital Period\", \"Perihelion Distance\",\"Aphelion Dist\"]]\n",
        "y = final_data[[\"Hazardous\"]]"
      ],
      "metadata": {
        "id": "hp0bgGD0DHji"
      },
      "execution_count": null,
      "outputs": []
    },
    {
      "cell_type": "code",
      "source": [
        "y.head()"
      ],
      "metadata": {
        "colab": {
          "base_uri": "https://localhost:8080/",
          "height": 206
        },
        "id": "EcdTKjElDTBf",
        "outputId": "b6789040-e4ae-48be-9ad8-024e1e11884e"
      },
      "execution_count": null,
      "outputs": [
        {
          "output_type": "execute_result",
          "data": {
            "text/plain": [
              "   Hazardous\n",
              "0       True\n",
              "2       True\n",
              "4       True\n",
              "9       True\n",
              "22      True"
            ],
            "text/html": [
              "\n",
              "  <div id=\"df-c2730583-eea5-426e-a86d-ed2fed47cbaf\">\n",
              "    <div class=\"colab-df-container\">\n",
              "      <div>\n",
              "<style scoped>\n",
              "    .dataframe tbody tr th:only-of-type {\n",
              "        vertical-align: middle;\n",
              "    }\n",
              "\n",
              "    .dataframe tbody tr th {\n",
              "        vertical-align: top;\n",
              "    }\n",
              "\n",
              "    .dataframe thead th {\n",
              "        text-align: right;\n",
              "    }\n",
              "</style>\n",
              "<table border=\"1\" class=\"dataframe\">\n",
              "  <thead>\n",
              "    <tr style=\"text-align: right;\">\n",
              "      <th></th>\n",
              "      <th>Hazardous</th>\n",
              "    </tr>\n",
              "  </thead>\n",
              "  <tbody>\n",
              "    <tr>\n",
              "      <th>0</th>\n",
              "      <td>True</td>\n",
              "    </tr>\n",
              "    <tr>\n",
              "      <th>2</th>\n",
              "      <td>True</td>\n",
              "    </tr>\n",
              "    <tr>\n",
              "      <th>4</th>\n",
              "      <td>True</td>\n",
              "    </tr>\n",
              "    <tr>\n",
              "      <th>9</th>\n",
              "      <td>True</td>\n",
              "    </tr>\n",
              "    <tr>\n",
              "      <th>22</th>\n",
              "      <td>True</td>\n",
              "    </tr>\n",
              "  </tbody>\n",
              "</table>\n",
              "</div>\n",
              "      <button class=\"colab-df-convert\" onclick=\"convertToInteractive('df-c2730583-eea5-426e-a86d-ed2fed47cbaf')\"\n",
              "              title=\"Convert this dataframe to an interactive table.\"\n",
              "              style=\"display:none;\">\n",
              "        \n",
              "  <svg xmlns=\"http://www.w3.org/2000/svg\" height=\"24px\"viewBox=\"0 0 24 24\"\n",
              "       width=\"24px\">\n",
              "    <path d=\"M0 0h24v24H0V0z\" fill=\"none\"/>\n",
              "    <path d=\"M18.56 5.44l.94 2.06.94-2.06 2.06-.94-2.06-.94-.94-2.06-.94 2.06-2.06.94zm-11 1L8.5 8.5l.94-2.06 2.06-.94-2.06-.94L8.5 2.5l-.94 2.06-2.06.94zm10 10l.94 2.06.94-2.06 2.06-.94-2.06-.94-.94-2.06-.94 2.06-2.06.94z\"/><path d=\"M17.41 7.96l-1.37-1.37c-.4-.4-.92-.59-1.43-.59-.52 0-1.04.2-1.43.59L10.3 9.45l-7.72 7.72c-.78.78-.78 2.05 0 2.83L4 21.41c.39.39.9.59 1.41.59.51 0 1.02-.2 1.41-.59l7.78-7.78 2.81-2.81c.8-.78.8-2.07 0-2.86zM5.41 20L4 18.59l7.72-7.72 1.47 1.35L5.41 20z\"/>\n",
              "  </svg>\n",
              "      </button>\n",
              "      \n",
              "  <style>\n",
              "    .colab-df-container {\n",
              "      display:flex;\n",
              "      flex-wrap:wrap;\n",
              "      gap: 12px;\n",
              "    }\n",
              "\n",
              "    .colab-df-convert {\n",
              "      background-color: #E8F0FE;\n",
              "      border: none;\n",
              "      border-radius: 50%;\n",
              "      cursor: pointer;\n",
              "      display: none;\n",
              "      fill: #1967D2;\n",
              "      height: 32px;\n",
              "      padding: 0 0 0 0;\n",
              "      width: 32px;\n",
              "    }\n",
              "\n",
              "    .colab-df-convert:hover {\n",
              "      background-color: #E2EBFA;\n",
              "      box-shadow: 0px 1px 2px rgba(60, 64, 67, 0.3), 0px 1px 3px 1px rgba(60, 64, 67, 0.15);\n",
              "      fill: #174EA6;\n",
              "    }\n",
              "\n",
              "    [theme=dark] .colab-df-convert {\n",
              "      background-color: #3B4455;\n",
              "      fill: #D2E3FC;\n",
              "    }\n",
              "\n",
              "    [theme=dark] .colab-df-convert:hover {\n",
              "      background-color: #434B5C;\n",
              "      box-shadow: 0px 1px 3px 1px rgba(0, 0, 0, 0.15);\n",
              "      filter: drop-shadow(0px 1px 2px rgba(0, 0, 0, 0.3));\n",
              "      fill: #FFFFFF;\n",
              "    }\n",
              "  </style>\n",
              "\n",
              "      <script>\n",
              "        const buttonEl =\n",
              "          document.querySelector('#df-c2730583-eea5-426e-a86d-ed2fed47cbaf button.colab-df-convert');\n",
              "        buttonEl.style.display =\n",
              "          google.colab.kernel.accessAllowed ? 'block' : 'none';\n",
              "\n",
              "        async function convertToInteractive(key) {\n",
              "          const element = document.querySelector('#df-c2730583-eea5-426e-a86d-ed2fed47cbaf');\n",
              "          const dataTable =\n",
              "            await google.colab.kernel.invokeFunction('convertToInteractive',\n",
              "                                                     [key], {});\n",
              "          if (!dataTable) return;\n",
              "\n",
              "          const docLinkHtml = 'Like what you see? Visit the ' +\n",
              "            '<a target=\"_blank\" href=https://colab.research.google.com/notebooks/data_table.ipynb>data table notebook</a>'\n",
              "            + ' to learn more about interactive tables.';\n",
              "          element.innerHTML = '';\n",
              "          dataTable['output_type'] = 'display_data';\n",
              "          await google.colab.output.renderOutput(dataTable, element);\n",
              "          const docLink = document.createElement('div');\n",
              "          docLink.innerHTML = docLinkHtml;\n",
              "          element.appendChild(docLink);\n",
              "        }\n",
              "      </script>\n",
              "    </div>\n",
              "  </div>\n",
              "  "
            ]
          },
          "metadata": {},
          "execution_count": 202
        }
      ]
    },
    {
      "cell_type": "markdown",
      "source": [
        "Se convierten los atributos \"True\" y \"False\" a notación binaria."
      ],
      "metadata": {
        "id": "1dLgsE0raUkf"
      }
    },
    {
      "cell_type": "code",
      "source": [
        "yf = y.astype(int)"
      ],
      "metadata": {
        "id": "Zr_fL0h1DeVf"
      },
      "execution_count": null,
      "outputs": []
    },
    {
      "cell_type": "code",
      "source": [
        "yf"
      ],
      "metadata": {
        "colab": {
          "base_uri": "https://localhost:8080/",
          "height": 424
        },
        "id": "NzHUmpStMXCA",
        "outputId": "c09179bd-3925-4211-ab78-e0d8c4787370"
      },
      "execution_count": null,
      "outputs": [
        {
          "output_type": "execute_result",
          "data": {
            "text/plain": [
              "      Hazardous\n",
              "0             1\n",
              "2             1\n",
              "4             1\n",
              "9             1\n",
              "22            1\n",
              "...         ...\n",
              "274           0\n",
              "1906          0\n",
              "1558          0\n",
              "1822          0\n",
              "3218          0\n",
              "\n",
              "[1541 rows x 1 columns]"
            ],
            "text/html": [
              "\n",
              "  <div id=\"df-a4c64759-a1fc-405b-846a-5a860e49b838\">\n",
              "    <div class=\"colab-df-container\">\n",
              "      <div>\n",
              "<style scoped>\n",
              "    .dataframe tbody tr th:only-of-type {\n",
              "        vertical-align: middle;\n",
              "    }\n",
              "\n",
              "    .dataframe tbody tr th {\n",
              "        vertical-align: top;\n",
              "    }\n",
              "\n",
              "    .dataframe thead th {\n",
              "        text-align: right;\n",
              "    }\n",
              "</style>\n",
              "<table border=\"1\" class=\"dataframe\">\n",
              "  <thead>\n",
              "    <tr style=\"text-align: right;\">\n",
              "      <th></th>\n",
              "      <th>Hazardous</th>\n",
              "    </tr>\n",
              "  </thead>\n",
              "  <tbody>\n",
              "    <tr>\n",
              "      <th>0</th>\n",
              "      <td>1</td>\n",
              "    </tr>\n",
              "    <tr>\n",
              "      <th>2</th>\n",
              "      <td>1</td>\n",
              "    </tr>\n",
              "    <tr>\n",
              "      <th>4</th>\n",
              "      <td>1</td>\n",
              "    </tr>\n",
              "    <tr>\n",
              "      <th>9</th>\n",
              "      <td>1</td>\n",
              "    </tr>\n",
              "    <tr>\n",
              "      <th>22</th>\n",
              "      <td>1</td>\n",
              "    </tr>\n",
              "    <tr>\n",
              "      <th>...</th>\n",
              "      <td>...</td>\n",
              "    </tr>\n",
              "    <tr>\n",
              "      <th>274</th>\n",
              "      <td>0</td>\n",
              "    </tr>\n",
              "    <tr>\n",
              "      <th>1906</th>\n",
              "      <td>0</td>\n",
              "    </tr>\n",
              "    <tr>\n",
              "      <th>1558</th>\n",
              "      <td>0</td>\n",
              "    </tr>\n",
              "    <tr>\n",
              "      <th>1822</th>\n",
              "      <td>0</td>\n",
              "    </tr>\n",
              "    <tr>\n",
              "      <th>3218</th>\n",
              "      <td>0</td>\n",
              "    </tr>\n",
              "  </tbody>\n",
              "</table>\n",
              "<p>1541 rows × 1 columns</p>\n",
              "</div>\n",
              "      <button class=\"colab-df-convert\" onclick=\"convertToInteractive('df-a4c64759-a1fc-405b-846a-5a860e49b838')\"\n",
              "              title=\"Convert this dataframe to an interactive table.\"\n",
              "              style=\"display:none;\">\n",
              "        \n",
              "  <svg xmlns=\"http://www.w3.org/2000/svg\" height=\"24px\"viewBox=\"0 0 24 24\"\n",
              "       width=\"24px\">\n",
              "    <path d=\"M0 0h24v24H0V0z\" fill=\"none\"/>\n",
              "    <path d=\"M18.56 5.44l.94 2.06.94-2.06 2.06-.94-2.06-.94-.94-2.06-.94 2.06-2.06.94zm-11 1L8.5 8.5l.94-2.06 2.06-.94-2.06-.94L8.5 2.5l-.94 2.06-2.06.94zm10 10l.94 2.06.94-2.06 2.06-.94-2.06-.94-.94-2.06-.94 2.06-2.06.94z\"/><path d=\"M17.41 7.96l-1.37-1.37c-.4-.4-.92-.59-1.43-.59-.52 0-1.04.2-1.43.59L10.3 9.45l-7.72 7.72c-.78.78-.78 2.05 0 2.83L4 21.41c.39.39.9.59 1.41.59.51 0 1.02-.2 1.41-.59l7.78-7.78 2.81-2.81c.8-.78.8-2.07 0-2.86zM5.41 20L4 18.59l7.72-7.72 1.47 1.35L5.41 20z\"/>\n",
              "  </svg>\n",
              "      </button>\n",
              "      \n",
              "  <style>\n",
              "    .colab-df-container {\n",
              "      display:flex;\n",
              "      flex-wrap:wrap;\n",
              "      gap: 12px;\n",
              "    }\n",
              "\n",
              "    .colab-df-convert {\n",
              "      background-color: #E8F0FE;\n",
              "      border: none;\n",
              "      border-radius: 50%;\n",
              "      cursor: pointer;\n",
              "      display: none;\n",
              "      fill: #1967D2;\n",
              "      height: 32px;\n",
              "      padding: 0 0 0 0;\n",
              "      width: 32px;\n",
              "    }\n",
              "\n",
              "    .colab-df-convert:hover {\n",
              "      background-color: #E2EBFA;\n",
              "      box-shadow: 0px 1px 2px rgba(60, 64, 67, 0.3), 0px 1px 3px 1px rgba(60, 64, 67, 0.15);\n",
              "      fill: #174EA6;\n",
              "    }\n",
              "\n",
              "    [theme=dark] .colab-df-convert {\n",
              "      background-color: #3B4455;\n",
              "      fill: #D2E3FC;\n",
              "    }\n",
              "\n",
              "    [theme=dark] .colab-df-convert:hover {\n",
              "      background-color: #434B5C;\n",
              "      box-shadow: 0px 1px 3px 1px rgba(0, 0, 0, 0.15);\n",
              "      filter: drop-shadow(0px 1px 2px rgba(0, 0, 0, 0.3));\n",
              "      fill: #FFFFFF;\n",
              "    }\n",
              "  </style>\n",
              "\n",
              "      <script>\n",
              "        const buttonEl =\n",
              "          document.querySelector('#df-a4c64759-a1fc-405b-846a-5a860e49b838 button.colab-df-convert');\n",
              "        buttonEl.style.display =\n",
              "          google.colab.kernel.accessAllowed ? 'block' : 'none';\n",
              "\n",
              "        async function convertToInteractive(key) {\n",
              "          const element = document.querySelector('#df-a4c64759-a1fc-405b-846a-5a860e49b838');\n",
              "          const dataTable =\n",
              "            await google.colab.kernel.invokeFunction('convertToInteractive',\n",
              "                                                     [key], {});\n",
              "          if (!dataTable) return;\n",
              "\n",
              "          const docLinkHtml = 'Like what you see? Visit the ' +\n",
              "            '<a target=\"_blank\" href=https://colab.research.google.com/notebooks/data_table.ipynb>data table notebook</a>'\n",
              "            + ' to learn more about interactive tables.';\n",
              "          element.innerHTML = '';\n",
              "          dataTable['output_type'] = 'display_data';\n",
              "          await google.colab.output.renderOutput(dataTable, element);\n",
              "          const docLink = document.createElement('div');\n",
              "          docLink.innerHTML = docLinkHtml;\n",
              "          element.appendChild(docLink);\n",
              "        }\n",
              "      </script>\n",
              "    </div>\n",
              "  </div>\n",
              "  "
            ]
          },
          "metadata": {},
          "execution_count": 204
        }
      ]
    },
    {
      "cell_type": "code",
      "source": [
        "y.value_counts()"
      ],
      "metadata": {
        "colab": {
          "base_uri": "https://localhost:8080/"
        },
        "id": "gkCaa_9ESnmQ",
        "outputId": "c08fb1f6-97a3-48b2-a8f3-f621cc1b344c"
      },
      "execution_count": null,
      "outputs": [
        {
          "output_type": "execute_result",
          "data": {
            "text/plain": [
              "Hazardous\n",
              "False        786\n",
              "True         755\n",
              "dtype: int64"
            ]
          },
          "metadata": {},
          "execution_count": 205
        }
      ]
    },
    {
      "cell_type": "code",
      "source": [
        "print(x.describe())"
      ],
      "metadata": {
        "colab": {
          "base_uri": "https://localhost:8080/"
        },
        "id": "71KCTCs8Dfdv",
        "outputId": "4cb8864e-7f01-4966-c7ca-93425930af60"
      },
      "execution_count": null,
      "outputs": [
        {
          "output_type": "stream",
          "name": "stdout",
          "text": [
            "       Absolute Magnitude  Est Dia in KM(min)  Est Dia in KM(max)  \\\n",
            "count         1541.000000         1541.000000         1541.000000   \n",
            "mean            21.487637            0.235409            0.526390   \n",
            "std              2.574022            0.269520            0.602665   \n",
            "min             14.400000            0.001839            0.004112   \n",
            "25%             19.700000            0.069913            0.156329   \n",
            "50%             21.100000            0.160160            0.358129   \n",
            "75%             22.900000            0.305179            0.682402   \n",
            "max             30.800000            3.503926            7.835018   \n",
            "\n",
            "       Relative Velocity km per hr  Miss Dist.(kilometers)  Inclination  \\\n",
            "count                  1541.000000            1.541000e+03  1541.000000   \n",
            "mean                  54706.782644            3.929877e+07    13.325604   \n",
            "std                   27037.548636            2.182943e+07    10.865139   \n",
            "min                    5028.027688            2.660989e+04     0.118339   \n",
            "25%                   34917.281662            2.033726e+07     4.781812   \n",
            "50%                   51126.783261            4.118794e+07    10.174265   \n",
            "75%                   69459.931599            5.863665e+07    19.586387   \n",
            "max                  160681.487851            7.454314e+07    75.406667   \n",
            "\n",
            "       Orbital Period  Perihelion Distance  Aphelion Dist  \n",
            "count     1541.000000          1541.000000    1541.000000  \n",
            "mean       623.419301             0.763889       2.002873  \n",
            "std        357.831081             0.234667       0.942310  \n",
            "min        184.918786             0.092784       0.894044  \n",
            "25%        360.074870             0.591119       1.290446  \n",
            "50%        490.802629             0.778397       1.648209  \n",
            "75%        776.751646             0.949761       2.476842  \n",
            "max       2149.780555             1.299832       5.924213  \n"
          ]
        }
      ]
    },
    {
      "cell_type": "code",
      "source": [
        "x.count()"
      ],
      "metadata": {
        "colab": {
          "base_uri": "https://localhost:8080/"
        },
        "id": "mjsgxEsXI0L5",
        "outputId": "b3f9ec9f-8615-449d-f7ad-d89870c3296d"
      },
      "execution_count": null,
      "outputs": [
        {
          "output_type": "execute_result",
          "data": {
            "text/plain": [
              "Absolute Magnitude             1541\n",
              "Est Dia in KM(min)             1541\n",
              "Est Dia in KM(max)             1541\n",
              "Relative Velocity km per hr    1541\n",
              "Miss Dist.(kilometers)         1541\n",
              "Inclination                    1541\n",
              "Orbital Period                 1541\n",
              "Perihelion Distance            1541\n",
              "Aphelion Dist                  1541\n",
              "dtype: int64"
            ]
          },
          "metadata": {},
          "execution_count": 208
        }
      ]
    },
    {
      "cell_type": "code",
      "source": [
        "x.count(numeric_only=True)"
      ],
      "metadata": {
        "colab": {
          "base_uri": "https://localhost:8080/"
        },
        "id": "i-ChQpMKJxqj",
        "outputId": "abe2657e-daed-4494-a10d-b5989b4a6cb1"
      },
      "execution_count": null,
      "outputs": [
        {
          "output_type": "execute_result",
          "data": {
            "text/plain": [
              "Absolute Magnitude             1541\n",
              "Est Dia in KM(min)             1541\n",
              "Est Dia in KM(max)             1541\n",
              "Relative Velocity km per hr    1541\n",
              "Miss Dist.(kilometers)         1541\n",
              "Inclination                    1541\n",
              "Orbital Period                 1541\n",
              "Perihelion Distance            1541\n",
              "Aphelion Dist                  1541\n",
              "dtype: int64"
            ]
          },
          "metadata": {},
          "execution_count": 209
        }
      ]
    },
    {
      "cell_type": "markdown",
      "source": [
        "Se hace el escalamiento de los datos debido a que se usa la función sigmoide como activación, entonces los datos se transforman a una distribución entre [-1, 1]."
      ],
      "metadata": {
        "id": "fLX0wKdGagt3"
      }
    },
    {
      "cell_type": "code",
      "source": [
        "from sklearn.preprocessing import StandardScaler\n",
        "scal = StandardScaler()\n",
        "scal.fit(x) #Entrenamiento\n",
        "xf = scal.transform(x) #Genera el nuevo dataset"
      ],
      "metadata": {
        "id": "LNi3VY2pICwS"
      },
      "execution_count": null,
      "outputs": []
    },
    {
      "cell_type": "code",
      "source": [
        "xf"
      ],
      "metadata": {
        "colab": {
          "base_uri": "https://localhost:8080/"
        },
        "id": "ecmoJEk5Ke1c",
        "outputId": "40982e2d-f495-4778-e930-e9e6d4d5cfe2"
      },
      "execution_count": null,
      "outputs": [
        {
          "output_type": "execute_result",
          "data": {
            "text/plain": [
              "array([[ 0.04366702, -0.40154423, -0.40154423, ..., -0.03863276,\n",
              "         0.18913847,  0.00306878],\n",
              "       [-0.46154314, -0.01450025, -0.01450025, ...,  0.05636031,\n",
              "         0.79671617, -0.03823358],\n",
              "       [ 0.04366702, -0.40154423, -0.40154423, ..., -0.35732775,\n",
              "         0.86873815, -0.55130329],\n",
              "       ...,\n",
              "       [ 1.48157287, -0.78779923, -0.78779923, ...,  0.12203437,\n",
              "         1.35995863, -0.10357789],\n",
              "       [-0.22836922, -0.22193549, -0.22193549, ...,  0.22991515,\n",
              "         1.56363721, -0.03310852],\n",
              "       [ 0.28966551, -0.52094055, -0.52094055, ...,  2.59653495,\n",
              "         2.27767834,  2.06604833]])"
            ]
          },
          "metadata": {},
          "execution_count": 211
        }
      ]
    },
    {
      "cell_type": "markdown",
      "source": [
        "Se elige un 20% de los datos para testeo y el 80% restante para entrenamiento."
      ],
      "metadata": {
        "id": "MgtI7inBatbI"
      }
    },
    {
      "cell_type": "code",
      "source": [
        "from sklearn.model_selection import train_test_split\n",
        "X_train, X_test, y_train, y_test = train_test_split(\n",
        "    xf, yf, test_size=0.2, random_state=35)"
      ],
      "metadata": {
        "id": "5b0L-STfMUFJ"
      },
      "execution_count": null,
      "outputs": []
    },
    {
      "cell_type": "code",
      "source": [
        "print(X_train.shape, X_test.shape)\n",
        "print(y_train.shape, y_test.shape)"
      ],
      "metadata": {
        "colab": {
          "base_uri": "https://localhost:8080/"
        },
        "id": "h2acu-rcMb9B",
        "outputId": "27eaa6b7-81f5-40cb-aeee-92d9512b398a"
      },
      "execution_count": null,
      "outputs": [
        {
          "output_type": "stream",
          "name": "stdout",
          "text": [
            "(1232, 9) (309, 9)\n",
            "(1232, 1) (309, 1)\n"
          ]
        }
      ]
    },
    {
      "cell_type": "markdown",
      "source": [
        "MODELO KOLMOGOROV DE 2 CAPAS"
      ],
      "metadata": {
        "id": "ij1JCHjdXhmY"
      }
    },
    {
      "cell_type": "code",
      "source": [
        "modelo2capas = MLPClassifier(\n",
        "    hidden_layer_sizes=(9,17),\n",
        "    activation=\"logistic\",\n",
        "    solver=\"lbfgs\",\n",
        "    verbose=True,\n",
        "    max_iter=2000\n",
        ")"
      ],
      "metadata": {
        "id": "npbSGNgSMjTH"
      },
      "execution_count": null,
      "outputs": []
    },
    {
      "cell_type": "code",
      "source": [
        "modelo2capas.fit(X_train,y_train)"
      ],
      "metadata": {
        "colab": {
          "base_uri": "https://localhost:8080/"
        },
        "id": "TVNHjEKhMuyf",
        "outputId": "2ec7e35d-2fcb-4e05-c0cd-a68a6e33e952"
      },
      "execution_count": null,
      "outputs": [
        {
          "output_type": "stream",
          "name": "stderr",
          "text": [
            "/usr/local/lib/python3.7/dist-packages/sklearn/neural_network/_multilayer_perceptron.py:1109: DataConversionWarning: A column-vector y was passed when a 1d array was expected. Please change the shape of y to (n_samples, ), for example using ravel().\n",
            "  y = column_or_1d(y, warn=True)\n",
            "/usr/local/lib/python3.7/dist-packages/sklearn/neural_network/_multilayer_perceptron.py:549: ConvergenceWarning: lbfgs failed to converge (status=1):\n",
            "STOP: TOTAL NO. of ITERATIONS REACHED LIMIT.\n",
            "\n",
            "Increase the number of iterations (max_iter) or scale the data as shown in:\n",
            "    https://scikit-learn.org/stable/modules/preprocessing.html\n",
            "  self.n_iter_ = _check_optimize_result(\"lbfgs\", opt_res, self.max_iter)\n"
          ]
        },
        {
          "output_type": "execute_result",
          "data": {
            "text/plain": [
              "MLPClassifier(activation='logistic', hidden_layer_sizes=(9, 17), max_iter=2000,\n",
              "              solver='lbfgs', verbose=True)"
            ]
          },
          "metadata": {},
          "execution_count": 241
        }
      ]
    },
    {
      "cell_type": "code",
      "source": [
        "modelo2capas.score(X_test,y_test)"
      ],
      "metadata": {
        "colab": {
          "base_uri": "https://localhost:8080/"
        },
        "id": "c6YH_QvkMwK3",
        "outputId": "c61263f8-6715-45fe-d413-9c29027cb8f4"
      },
      "execution_count": null,
      "outputs": [
        {
          "output_type": "execute_result",
          "data": {
            "text/plain": [
              "0.7961165048543689"
            ]
          },
          "metadata": {},
          "execution_count": 242
        }
      ]
    },
    {
      "cell_type": "code",
      "source": [
        "modelo2capas.loss_"
      ],
      "metadata": {
        "colab": {
          "base_uri": "https://localhost:8080/"
        },
        "id": "I0EC-_IuMxEB",
        "outputId": "2917183e-fd2b-4a50-d161-d91055a2bdb2"
      },
      "execution_count": null,
      "outputs": [
        {
          "output_type": "execute_result",
          "data": {
            "text/plain": [
              "0.13300063616096086"
            ]
          },
          "metadata": {},
          "execution_count": 243
        }
      ]
    },
    {
      "cell_type": "code",
      "source": [
        "y_pred = modelo2capas.predict(X_test)"
      ],
      "metadata": {
        "id": "UkkKXoivMyL3"
      },
      "execution_count": null,
      "outputs": []
    },
    {
      "cell_type": "code",
      "source": [
        "from sklearn.metrics import classification_report,confusion_matrix\n",
        "\n",
        "print(classification_report(y_test,y_pred))"
      ],
      "metadata": {
        "colab": {
          "base_uri": "https://localhost:8080/"
        },
        "id": "kqLjE2NRMzf6",
        "outputId": "b7e30d1a-323a-4590-a968-2809188b48e2"
      },
      "execution_count": null,
      "outputs": [
        {
          "output_type": "stream",
          "name": "stdout",
          "text": [
            "              precision    recall  f1-score   support\n",
            "\n",
            "           0       0.75      0.86      0.80       147\n",
            "           1       0.86      0.73      0.79       162\n",
            "\n",
            "    accuracy                           0.80       309\n",
            "   macro avg       0.80      0.80      0.80       309\n",
            "weighted avg       0.80      0.80      0.80       309\n",
            "\n"
          ]
        }
      ]
    },
    {
      "cell_type": "markdown",
      "source": [
        "Según al reporte de clasificación:\n",
        "\n",
        "- Hay un 80% que el modelo puede predecir correctamente los datos como Peligrosos\n",
        "- Hay un 80% de los datos predecidos que sí son catalogados como Peligrosos\n",
        "- En cuanto al rendimiento del modelo, se obtuvo un 80%, el cual, tomando en cuenta un umbral del 75% de aceptación, se considera el modelo como correcto."
      ],
      "metadata": {
        "id": "hlrtkefPci_R"
      }
    },
    {
      "cell_type": "code",
      "source": [
        "print(confusion_matrix(y_test,y_pred))"
      ],
      "metadata": {
        "colab": {
          "base_uri": "https://localhost:8080/"
        },
        "id": "Kjz4l2DpN02K",
        "outputId": "ed331b82-4734-4a17-9641-1d75f691262c"
      },
      "execution_count": null,
      "outputs": [
        {
          "output_type": "stream",
          "name": "stdout",
          "text": [
            "[[127  20]\n",
            " [ 43 119]]\n"
          ]
        }
      ]
    },
    {
      "cell_type": "markdown",
      "source": [
        "MODELO KOLOMOGOROV DE 3 CAPAS"
      ],
      "metadata": {
        "id": "BXtaNqddXlW4"
      }
    },
    {
      "cell_type": "code",
      "source": [
        "modelo3capas = MLPClassifier(\n",
        "    hidden_layer_sizes=(9,17,3),\n",
        "    activation=\"logistic\",\n",
        "    solver=\"lbfgs\",\n",
        "    verbose=True,\n",
        "    max_iter=2000\n",
        ")"
      ],
      "metadata": {
        "id": "xFaa7kdpXpSK"
      },
      "execution_count": null,
      "outputs": []
    },
    {
      "cell_type": "code",
      "source": [
        "modelo3capas.fit(X_train,y_train)"
      ],
      "metadata": {
        "colab": {
          "base_uri": "https://localhost:8080/"
        },
        "id": "KDHgcmLvXrFH",
        "outputId": "f2f2fd50-203f-4be1-b63d-e21013be486d"
      },
      "execution_count": null,
      "outputs": [
        {
          "output_type": "stream",
          "name": "stderr",
          "text": [
            "/usr/local/lib/python3.7/dist-packages/sklearn/neural_network/_multilayer_perceptron.py:1109: DataConversionWarning: A column-vector y was passed when a 1d array was expected. Please change the shape of y to (n_samples, ), for example using ravel().\n",
            "  y = column_or_1d(y, warn=True)\n",
            "/usr/local/lib/python3.7/dist-packages/sklearn/neural_network/_multilayer_perceptron.py:549: ConvergenceWarning: lbfgs failed to converge (status=1):\n",
            "STOP: TOTAL NO. of ITERATIONS REACHED LIMIT.\n",
            "\n",
            "Increase the number of iterations (max_iter) or scale the data as shown in:\n",
            "    https://scikit-learn.org/stable/modules/preprocessing.html\n",
            "  self.n_iter_ = _check_optimize_result(\"lbfgs\", opt_res, self.max_iter)\n"
          ]
        },
        {
          "output_type": "execute_result",
          "data": {
            "text/plain": [
              "MLPClassifier(activation='logistic', hidden_layer_sizes=(9, 17, 3),\n",
              "              max_iter=2000, solver='lbfgs', verbose=True)"
            ]
          },
          "metadata": {},
          "execution_count": 248
        }
      ]
    },
    {
      "cell_type": "code",
      "source": [
        "modelo3capas.score(X_test,y_test)"
      ],
      "metadata": {
        "colab": {
          "base_uri": "https://localhost:8080/"
        },
        "id": "kYrOrH1rXr_X",
        "outputId": "31aad2b4-cc0b-43bc-9202-3e7157ab99b6"
      },
      "execution_count": null,
      "outputs": [
        {
          "output_type": "execute_result",
          "data": {
            "text/plain": [
              "0.8511326860841424"
            ]
          },
          "metadata": {},
          "execution_count": 249
        }
      ]
    },
    {
      "cell_type": "code",
      "source": [
        "modelo3capas.loss_"
      ],
      "metadata": {
        "colab": {
          "base_uri": "https://localhost:8080/"
        },
        "id": "e8iEHDXzXs1o",
        "outputId": "cdff776d-2f57-4f80-ca2c-67069391f208"
      },
      "execution_count": null,
      "outputs": [
        {
          "output_type": "execute_result",
          "data": {
            "text/plain": [
              "0.11032731180678597"
            ]
          },
          "metadata": {},
          "execution_count": 250
        }
      ]
    },
    {
      "cell_type": "code",
      "source": [
        "y_pred = modelo3capas.predict(X_test)"
      ],
      "metadata": {
        "id": "G__J-FxCXtsY"
      },
      "execution_count": null,
      "outputs": []
    },
    {
      "cell_type": "code",
      "source": [
        "print(classification_report(y_test,y_pred))"
      ],
      "metadata": {
        "colab": {
          "base_uri": "https://localhost:8080/"
        },
        "id": "t8fmuz-nXu2Q",
        "outputId": "1a018d5c-42de-40f6-fe97-1e7b37006bda"
      },
      "execution_count": null,
      "outputs": [
        {
          "output_type": "stream",
          "name": "stdout",
          "text": [
            "              precision    recall  f1-score   support\n",
            "\n",
            "           0       0.84      0.84      0.84       147\n",
            "           1       0.86      0.86      0.86       162\n",
            "\n",
            "    accuracy                           0.85       309\n",
            "   macro avg       0.85      0.85      0.85       309\n",
            "weighted avg       0.85      0.85      0.85       309\n",
            "\n"
          ]
        }
      ]
    },
    {
      "cell_type": "code",
      "source": [
        "print(confusion_matrix(y_test,y_pred))"
      ],
      "metadata": {
        "colab": {
          "base_uri": "https://localhost:8080/"
        },
        "id": "qgg_94xPXvvL",
        "outputId": "720dd619-e071-4969-92b9-67131ebc209c"
      },
      "execution_count": null,
      "outputs": [
        {
          "output_type": "stream",
          "name": "stdout",
          "text": [
            "[[124  23]\n",
            " [ 23 139]]\n"
          ]
        }
      ]
    },
    {
      "cell_type": "markdown",
      "source": [
        "Según al reporte de clasificación:\n",
        "  - Hay un 85% que el modelo puede predecir correctamente los datos como Peligrosos\n",
        "  - Hay un 85% de los datos predecidos que sí son catalogados como Peligrosos\n",
        "  - En cuanto al rendimiento del modelo, se obtuvo un 85%, el cual, tomando en cuenta un umbral del 75% de aceptación, se considera el modelo como correcto."
      ],
      "metadata": {
        "id": "c9mGUqNIbqio"
      }
    }
  ]
}